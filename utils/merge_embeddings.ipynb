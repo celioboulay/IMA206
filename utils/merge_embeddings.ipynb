{
 "cells": [
  {
   "cell_type": "code",
   "execution_count": 25,
   "id": "c60b79cc",
   "metadata": {},
   "outputs": [],
   "source": [
    "import torch\n",
    "import os\n",
    "import numpy as np"
   ]
  },
  {
   "cell_type": "code",
   "execution_count": 27,
   "id": "602249c9",
   "metadata": {},
   "outputs": [
    {
     "name": "stderr",
     "output_type": "stream",
     "text": [
      "C:\\Users\\PresiJean\\AppData\\Local\\Temp\\ipykernel_26512\\3260505980.py:12: FutureWarning: You are using `torch.load` with `weights_only=False` (the current default value), which uses the default pickle module implicitly. It is possible to construct malicious pickle data which will execute arbitrary code during unpickling (See https://github.com/pytorch/pytorch/blob/main/SECURITY.md#untrusted-models for more details). In a future release, the default value for `weights_only` will be flipped to `True`. This limits the functions that could be executed during unpickling. Arbitrary objects will no longer be allowed to be loaded via this mode unless they are explicitly allowlisted by the user via `torch.serialization.add_safe_globals`. We recommend you start setting `weights_only=True` for any use case where you don't have full control of the loaded file. Please open an issue on GitHub for any issues related to this experimental feature.\n",
      "  tensor = torch.load(os.path.join(local_path, file))\n",
      "C:\\Users\\PresiJean\\AppData\\Local\\Temp\\ipykernel_26512\\3260505980.py:21: FutureWarning: You are using `torch.load` with `weights_only=False` (the current default value), which uses the default pickle module implicitly. It is possible to construct malicious pickle data which will execute arbitrary code during unpickling (See https://github.com/pytorch/pytorch/blob/main/SECURITY.md#untrusted-models for more details). In a future release, the default value for `weights_only` will be flipped to `True`. This limits the functions that could be executed during unpickling. Arbitrary objects will no longer be allowed to be loaded via this mode unless they are explicitly allowlisted by the user via `torch.serialization.add_safe_globals`. We recommend you start setting `weights_only=True` for any use case where you don't have full control of the loaded file. Please open an issue on GitHub for any issues related to this experimental feature.\n",
      "  tensor = torch.load(os.path.join(global_path, file))\n"
     ]
    }
   ],
   "source": [
    "# List all .pt files in the directory\n",
    "local_path = '../embeddings/local/info_vae_dim64_reg10_kld1e-3'\n",
    "global_path = '../embeddings/global_with_ssl/'\n",
    "local_files = [f for f in os.listdir(local_path) if f.endswith('.pt')]\n",
    "global_files = [f for f in os.listdir(global_path) if f.endswith('.pt')]\n",
    "\n",
    "local_names = []\n",
    "local_arr = []\n",
    "\n",
    "for file in local_files:\n",
    "    local_names.append(file)\n",
    "    tensor = torch.load(os.path.join(local_path, file))\n",
    "    local_arr.append(tensor.cpu().numpy())\n",
    "\n",
    "global_names = []\n",
    "local_arr = np.array(local_arr)\n",
    "\n",
    "global_arr = []\n",
    "for file in global_files:\n",
    "    global_names.append(file[:-3]+\"_embedding.pt\")\n",
    "    tensor = torch.load(os.path.join(global_path, file))\n",
    "    global_arr.append(tensor.cpu().numpy())\n",
    "\n",
    "global_arr = np.array(global_arr)\n"
   ]
  },
  {
   "cell_type": "code",
   "execution_count": 28,
   "id": "2528863f",
   "metadata": {},
   "outputs": [],
   "source": [
    "sorted_indices = np.argsort(global_names)\n",
    "global_names = [global_names[i] for i in sorted_indices]\n",
    "global_arr = global_arr[sorted_indices]\n",
    "\n",
    "sorted_indices = np.argsort(local_names)\n",
    "local_names = [local_names[i] for i in sorted_indices]\n",
    "local_arr = local_arr[sorted_indices]"
   ]
  },
  {
   "cell_type": "code",
   "execution_count": 29,
   "id": "fed7c9bf",
   "metadata": {},
   "outputs": [
    {
     "name": "stdout",
     "output_type": "stream",
     "text": [
      "Local embeddings shape: (8739, 320)\n",
      "Global embeddings shape: (8739, 1024)\n"
     ]
    }
   ],
   "source": [
    "print(\"Local embeddings shape:\", local_arr.shape)\n",
    "print(\"Global embeddings shape:\", global_arr.shape)"
   ]
  },
  {
   "cell_type": "code",
   "execution_count": 30,
   "id": "aaed6e37",
   "metadata": {},
   "outputs": [],
   "source": [
    "N = max(len(local_arr), len(global_arr))\n",
    "for i in range(N):\n",
    "    if local_names[i] != global_names[i]:\n",
    "        raise ValueError(f\"Mismatch in file names: {local_names[i]} != {global_names[i]}\")"
   ]
  },
  {
   "cell_type": "code",
   "execution_count": 31,
   "id": "513f5beb",
   "metadata": {},
   "outputs": [],
   "source": [
    "merged_arr = np.zeros((N, local_arr.shape[1]+global_arr.shape[1]))  # Assuming embeddings are of size 128\n",
    "\n",
    "for i in range(N):\n",
    "    merged_arr[i, :local_arr.shape[1]] = local_arr[i]\n",
    "    merged_arr[i, local_arr.shape[1]:] = global_arr[i]\n",
    "\n",
    "# Save the merged array to a .npy file\n",
    "output_path = '../embeddings/merged_embeddings.npy'\n",
    "np.save(output_path, merged_arr)\n",
    "output_path = '../embeddings/local_embeddings.npy'\n",
    "np.save(output_path, local_arr)\n",
    "output_path = '../embeddings/global_embeddings.npy'\n",
    "np.save(output_path, global_arr)\n",
    "output_path = '../embeddings/names_embeddings.npy'\n",
    "np.save(output_path, global_names)"
   ]
  },
  {
   "cell_type": "code",
   "execution_count": null,
   "id": "12baee9d",
   "metadata": {},
   "outputs": [],
   "source": []
  }
 ],
 "metadata": {
  "kernelspec": {
   "display_name": "vae-gpu",
   "language": "python",
   "name": "python3"
  },
  "language_info": {
   "codemirror_mode": {
    "name": "ipython",
    "version": 3
   },
   "file_extension": ".py",
   "mimetype": "text/x-python",
   "name": "python",
   "nbconvert_exporter": "python",
   "pygments_lexer": "ipython3",
   "version": "3.10.18"
  }
 },
 "nbformat": 4,
 "nbformat_minor": 5
}
